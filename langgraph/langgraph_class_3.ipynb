{
 "cells": [
  {
   "cell_type": "code",
   "execution_count": 1,
   "id": "d39ce701",
   "metadata": {},
   "outputs": [
    {
     "name": "stdout",
     "output_type": "stream",
     "text": [
      "all ok\n"
     ]
    }
   ],
   "source": [
    "print(\"all ok\")"
   ]
  },
  {
   "cell_type": "code",
   "execution_count": 3,
   "id": "e8992eee",
   "metadata": {},
   "outputs": [],
   "source": [
    "from dotenv import load_dotenv\n",
    "load_dotenv()\n",
    "import os\n",
    "os.environ['GROQ_API_KEY'] = os.getenv(\"GROQ_API_KEY\")"
   ]
  },
  {
   "cell_type": "code",
   "execution_count": 4,
   "id": "6a4b2a73",
   "metadata": {},
   "outputs": [],
   "source": [
    "model=\"deepseek-r1-distill-llama-70b\""
   ]
  },
  {
   "cell_type": "code",
   "execution_count": 5,
   "id": "280b33a5",
   "metadata": {},
   "outputs": [],
   "source": [
    "from langchain_groq import ChatGroq\n"
   ]
  },
  {
   "cell_type": "code",
   "execution_count": 7,
   "id": "cebb4f9c",
   "metadata": {},
   "outputs": [],
   "source": [
    "llm=ChatGroq(model_name=model)"
   ]
  },
  {
   "cell_type": "code",
   "execution_count": 9,
   "id": "3305ace2",
   "metadata": {},
   "outputs": [
    {
     "data": {
      "text/plain": [
       "AIMessage(content='<think>\\n\\n</think>\\n\\nHello! How can I assist you today? 😊', additional_kwargs={}, response_metadata={'token_usage': {'completion_tokens': 16, 'prompt_tokens': 4, 'total_tokens': 20, 'completion_time': 0.087357086, 'prompt_time': 5.5279e-05, 'queue_time': 0.054406841000000004, 'total_time': 0.087412365}, 'model_name': 'deepseek-r1-distill-llama-70b', 'system_fingerprint': 'fp_1bbe7845ec', 'finish_reason': 'stop', 'logprobs': None}, id='run--2e7407f0-2868-4c12-a12b-47e7e15895d0-0', usage_metadata={'input_tokens': 4, 'output_tokens': 16, 'total_tokens': 20})"
      ]
     },
     "execution_count": 9,
     "metadata": {},
     "output_type": "execute_result"
    }
   ],
   "source": [
    "llm.invoke(\"hi\")"
   ]
  },
  {
   "cell_type": "code",
   "execution_count": 11,
   "id": "b78035fc",
   "metadata": {},
   "outputs": [
    {
     "name": "stdout",
     "output_type": "stream",
     "text": [
      "<think>\n",
      "\n",
      "</think>\n",
      "\n",
      "Hello! How can I assist you today? 😊\n"
     ]
    }
   ],
   "source": [
    "print(llm.invoke(\"hi\").content)"
   ]
  },
  {
   "cell_type": "code",
   "execution_count": 17,
   "id": "f457a8e1",
   "metadata": {},
   "outputs": [],
   "source": [
    "import operator\n",
    "from typing import List\n",
    "from langgraph.graph.message import add_messages\n",
    "from langchain_core.tools import tool\n",
    "from pydantic import BaseModel , Field\n",
    "from typing import TypedDict, Annotated, Sequence\n",
    "from langchain_core.messages import BaseMessage\n",
    "from langchain_core.output_parsers import StrOutputParser\n",
    "from langchain_core.prompts import ChatPromptTemplate, PromptTemplate\n",
    "from langchain_core.messages import HumanMessage, AIMessage\n",
    "from langgraph.graph import StateGraph,MessagesState,START,END"
   ]
  },
  {
   "cell_type": "code",
   "execution_count": 85,
   "id": "6cd721a2",
   "metadata": {},
   "outputs": [],
   "source": [
    "def call_model(state: MessagesState):\n",
    "    messages = state['messages']\n",
    "    response = llm.invoke(messages)\n",
    "    return {\"messages\": [response]}"
   ]
  },
  {
   "cell_type": "code",
   "execution_count": 77,
   "id": "b42f0c9e",
   "metadata": {},
   "outputs": [
    {
     "data": {
      "text/plain": [
       "HumanMessage(content='hi how are you?', additional_kwargs={}, response_metadata={})"
      ]
     },
     "execution_count": 77,
     "metadata": {},
     "output_type": "execute_result"
    }
   ],
   "source": [
    "HumanMessage(\"hi how are you?\")"
   ]
  },
  {
   "cell_type": "code",
   "execution_count": 78,
   "id": "6cb3807f",
   "metadata": {},
   "outputs": [
    {
     "data": {
      "text/plain": [
       "HumanMessage(content=['hi how are you?'], additional_kwargs={}, response_metadata={})"
      ]
     },
     "execution_count": 78,
     "metadata": {},
     "output_type": "execute_result"
    }
   ],
   "source": [
    "HumanMessage([\"hi how are you?\"])"
   ]
  },
  {
   "cell_type": "markdown",
   "id": "b925060a",
   "metadata": {},
   "source": [
    "### this code is only for the testing"
   ]
  },
  {
   "cell_type": "code",
   "execution_count": 84,
   "id": "5961c4d7",
   "metadata": {},
   "outputs": [
    {
     "name": "stdout",
     "output_type": "stream",
     "text": [
      "this is my current message: content='hi hello how are you?' additional_kwargs={} response_metadata={}\n"
     ]
    }
   ],
   "source": [
    "\n",
    "state={\"messages\":[\"hi hello how are you?\"]}\n",
    "call_model(state)"
   ]
  },
  {
   "cell_type": "code",
   "execution_count": null,
   "id": "827f94e6",
   "metadata": {},
   "outputs": [],
   "source": [
    "# from langchain_core.messages import AnyMessage\n",
    "# # class MessagesState(TypedDict):\n",
    "# #     messages: Annotated[list[AnyMessage], add_messages]"
   ]
  },
  {
   "cell_type": "code",
   "execution_count": 86,
   "id": "82c153bb",
   "metadata": {},
   "outputs": [],
   "source": [
    "workflow=StateGraph(MessagesState)"
   ]
  },
  {
   "cell_type": "code",
   "execution_count": 87,
   "id": "2705aaad",
   "metadata": {},
   "outputs": [
    {
     "data": {
      "text/plain": [
       "<langgraph.graph.state.StateGraph at 0x20aa717e500>"
      ]
     },
     "execution_count": 87,
     "metadata": {},
     "output_type": "execute_result"
    }
   ],
   "source": [
    "workflow.add_node(\"mybot\",call_model)"
   ]
  },
  {
   "cell_type": "code",
   "execution_count": 88,
   "id": "16ffd459",
   "metadata": {},
   "outputs": [
    {
     "data": {
      "text/plain": [
       "<langgraph.graph.state.StateGraph at 0x20aa717e500>"
      ]
     },
     "execution_count": 88,
     "metadata": {},
     "output_type": "execute_result"
    }
   ],
   "source": [
    "workflow.add_edge(START,\"mybot\")"
   ]
  },
  {
   "cell_type": "code",
   "execution_count": 89,
   "id": "dac798b7",
   "metadata": {},
   "outputs": [
    {
     "data": {
      "text/plain": [
       "<langgraph.graph.state.StateGraph at 0x20aa717e500>"
      ]
     },
     "execution_count": 89,
     "metadata": {},
     "output_type": "execute_result"
    }
   ],
   "source": [
    "workflow.add_edge(\"mybot\",END)"
   ]
  },
  {
   "cell_type": "code",
   "execution_count": 90,
   "id": "bed7c9dd",
   "metadata": {},
   "outputs": [],
   "source": [
    "app=workflow.compile()"
   ]
  },
  {
   "cell_type": "code",
   "execution_count": 91,
   "id": "e0f03670",
   "metadata": {},
   "outputs": [
    {
     "data": {
      "image/png": "[encoded data removed]",
      "text/plain": [
       "<IPython.core.display.Image object>"
      ]
     },
     "metadata": {},
     "output_type": "display_data"
    }
   ],
   "source": [
    "from IPython.display import Image, display\n",
    "display(Image(app.get_graph().draw_mermaid_png()))"
   ]
  },
  {
   "cell_type": "code",
   "execution_count": 92,
   "id": "488fde11",
   "metadata": {},
   "outputs": [],
   "source": [
    "input={\"messages\":[\"hi hello how are you?\"]}"
   ]
  },
  {
   "cell_type": "code",
   "execution_count": 93,
   "id": "3e74440c",
   "metadata": {},
   "outputs": [
    {
     "data": {
      "text/plain": [
       "{'messages': [HumanMessage(content='hi hello how are you?', additional_kwargs={}, response_metadata={}, id='877b56b0-acc1-4f71-81af-0835818bf1f9'),\n",
       "  AIMessage(content=\"<think>\\n\\n</think>\\n\\nHello! I'm just a virtual assistant, so I don't have feelings, but I'm here and ready to help you with whatever you need. How are you doing? 😊\", additional_kwargs={}, response_metadata={'token_usage': {'completion_tokens': 42, 'prompt_tokens': 9, 'total_tokens': 51, 'completion_time': 0.184463599, 'prompt_time': 0.000213596, 'queue_time': 0.053161349, 'total_time': 0.184677195}, 'model_name': 'deepseek-r1-distill-llama-70b', 'system_fingerprint': 'fp_1bbe7845ec', 'finish_reason': 'stop', 'logprobs': None}, id='run--138951e1-e20a-4640-af6f-b56404438f14-0', usage_metadata={'input_tokens': 9, 'output_tokens': 42, 'total_tokens': 51})]}"
      ]
     },
     "execution_count": 93,
     "metadata": {},
     "output_type": "execute_result"
    }
   ],
   "source": [
    "app.invoke(input)"
   ]
  },
  {
   "cell_type": "code",
   "execution_count": 94,
   "id": "2ec4f35f",
   "metadata": {},
   "outputs": [
    {
     "name": "stdout",
     "output_type": "stream",
     "text": [
      "Output from mybot Node\n",
      "_______\n",
      "{'messages': [AIMessage(content=\"<think>\\n\\n</think>\\n\\nHello! I'm just a virtual assistant, so I don't have feelings, but I'm here and ready to help you with whatever you need. How are you doing? 😊\", additional_kwargs={}, response_metadata={'token_usage': {'completion_tokens': 42, 'prompt_tokens': 9, 'total_tokens': 51, 'completion_time': 0.187418124, 'prompt_time': 0.000211927, 'queue_time': 0.053487063, 'total_time': 0.187630051}, 'model_name': 'deepseek-r1-distill-llama-70b', 'system_fingerprint': 'fp_1bbe7845ec', 'finish_reason': 'stop', 'logprobs': None}, id='run--eb76b092-eeb7-4986-9683-5349fa708176-0', usage_metadata={'input_tokens': 9, 'output_tokens': 42, 'total_tokens': 51})]}\n",
      "\n",
      "\n"
     ]
    }
   ],
   "source": [
    "for output in app.stream(input):\n",
    "    for key,value in output.items():\n",
    "        print(f\"Output from {key} Node\")\n",
    "        print(\"_______\")\n",
    "        print(value)\n",
    "        print(\"\\n\")"
   ]
  },
  {
   "cell_type": "code",
   "execution_count": null,
   "id": "8058064e",
   "metadata": {},
   "outputs": [],
   "source": []
  }
 ],
 "metadata": {
  "kernelspec": {
   "display_name": "Python 3",
   "language": "python",
   "name": "python3"
  },
  "language_info": {
   "codemirror_mode": {
    "name": "ipython",
    "version": 3
   },
   "file_extension": ".py",
   "mimetype": "text/x-python",
   "name": "python",
   "nbconvert_exporter": "python",
   "pygments_lexer": "ipython3",
   "version": "3.10.16"
  }
 },
 "nbformat": 4,
 "nbformat_minor": 5
}
